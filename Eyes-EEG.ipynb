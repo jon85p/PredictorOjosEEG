{
 "cells": [
  {
   "cell_type": "markdown",
   "metadata": {},
   "source": [
    "# Práctica SVM\n",
    "## 1. Idea\n",
    "Predecir mediante 14 medidas de EEG, si un paciente tiene los ojos abiertos o cerrados, con una precisión mejor al $80 \\%$ (para empezar, pues)\n",
    "\n",
    "Para tal fin se dispone de un dataset donde un paciente abría y cerraba sus ojos durante 117 segundos, con una frecuencia de toma de datos de $128 Hz$"
   ]
  },
  {
   "cell_type": "markdown",
   "metadata": {},
   "source": [
    "### 1.1 Descripción del dataset\n",
    "\n",
    "Enlace del dataset: https://archive.ics.uci.edu/ml/datasets/EEG+Eye+State\n",
    "\n",
    "Enlace de descarga del dataset: https://archive.ics.uci.edu/ml/machine-learning-databases/00264/EEG%20Eye%20State.arff\n",
    "\n",
    "Instancias = 14980\n",
    "\n",
    "Atributos:\n",
    "- @ATTRIBUTE AF3 NUMERIC                                                  \n",
    "- @ATTRIBUTE F7 NUMERIC                                                   \n",
    "- @ATTRIBUTE F3 NUMERIC                                                   \n",
    "- @ATTRIBUTE FC5 NUMERIC                                                  \n",
    "- @ATTRIBUTE T7 NUMERIC                                                   \n",
    "- @ATTRIBUTE P7 NUMERIC                                                   \n",
    "- @ATTRIBUTE O1 NUMERIC                                                   \n",
    "- @ATTRIBUTE O2 NUMERIC                                                   \n",
    "- @ATTRIBUTE P8 NUMERIC                                                   \n",
    "- @ATTRIBUTE T8 NUMERIC                                                   \n",
    "- @ATTRIBUTE FC6 NUMERIC                                                  \n",
    "- @ATTRIBUTE F4 NUMERIC                                                   \n",
    "- @ATTRIBUTE F8 NUMERIC                                                   \n",
    "- @ATTRIBUTE AF4 NUMERIC                                                  \n",
    "- @ATTRIBUTE eyeDetection {0,1}\n",
    "\n",
    "Localización de los sensores:\n",
    "<img src=\"eegsensorlocation.jpg\">\n",
    "\n",
    "Cada uno de los atributos corresponde a sensado durante los 117 segundos de medición EEG, y el último atributo es la salida; si los ojos del paciente estaban cerrados (0) o abiertos (1)"
   ]
  },
  {
   "cell_type": "markdown",
   "metadata": {},
   "source": [
    "## 1.2 Lectura de la información"
   ]
  },
  {
   "cell_type": "code",
   "execution_count": null,
   "metadata": {
    "collapsed": true
   },
   "outputs": [],
   "source": [
    "import numpy as np\n",
    "from sklearn.svm import SVC\n",
    "import matplotlib.pyplot as plt\n",
    "from time import time\n",
    "%matplotlib inline"
   ]
  },
  {
   "cell_type": "code",
   "execution_count": null,
   "metadata": {
    "collapsed": false
   },
   "outputs": [],
   "source": [
    "fileDS = 'EEG Eye State.arff'\n",
    "data = np.zeros((14980,15))\n",
    "with open(fileDS, 'rb') as f:\n",
    "    text = f.readlines()\n",
    "    prueba = text[19].decode('utf-8')[0:-2].split(',')\n",
    "    for i, fila in enumerate(text[19::]):\n",
    "        fila_d = fila.decode('utf-8')[0:-2].split(',')\n",
    "        data[i] = list(map(float, fila_d))\n",
    "data_bk = data.copy()"
   ]
  },
  {
   "cell_type": "markdown",
   "metadata": {},
   "source": [
    "La matriz **data** tiene todos los datos, pero deben seleccionarse solo unos cuantos para el entrenamiento y otros para la prueba.\n",
    "\n",
    "Para esto entonces se analiza primero el histograma de estado de ojo abierto o cerrado para evitar prejuicios"
   ]
  },
  {
   "cell_type": "code",
   "execution_count": null,
   "metadata": {
    "collapsed": false
   },
   "outputs": [],
   "source": [
    "X_data = data[::,:-1]\n",
    "y_data = data[::,-1]"
   ]
  },
  {
   "cell_type": "markdown",
   "metadata": {},
   "source": [
    "Muestra para los primeros 3 datos:"
   ]
  },
  {
   "cell_type": "code",
   "execution_count": null,
   "metadata": {
    "collapsed": false
   },
   "outputs": [],
   "source": [
    "print(\"Datos de los 14 sensores\")\n",
    "print(X_data[0:3])\n",
    "print(\"Ojos\")\n",
    "print(y_data[0:3])"
   ]
  },
  {
   "cell_type": "markdown",
   "metadata": {},
   "source": [
    "Microvoltios, ¿tal vez?"
   ]
  },
  {
   "cell_type": "markdown",
   "metadata": {},
   "source": [
    "## 1.3 Tratamiento de la información"
   ]
  },
  {
   "cell_type": "markdown",
   "metadata": {},
   "source": [
    "Se procede a determinar la cantidad de información disponible, por lo que en un histograma podemos ver la frecuencia con la que aparecen los datos de salida (ojos abiertos o cerrados)"
   ]
  },
  {
   "cell_type": "code",
   "execution_count": null,
   "metadata": {
    "collapsed": false
   },
   "outputs": [],
   "source": [
    "plt.hist(y_data, bins=2)\n",
    "plt.title(\"Todos los datos\")"
   ]
  },
  {
   "cell_type": "markdown",
   "metadata": {},
   "source": [
    "Se determina entonces que la mayor cantidad de datos corresponden a ojos cerrados"
   ]
  },
  {
   "cell_type": "markdown",
   "metadata": {},
   "source": [
    "Para usar $80 \\%$ de los datos para el entrenamiento de la SVM y el $20 \\%$ restante de los datos para la verificación; $14980*0.8 = 11984$"
   ]
  },
  {
   "cell_type": "code",
   "execution_count": null,
   "metadata": {
    "collapsed": false
   },
   "outputs": [],
   "source": [
    "plt.hist(y_data[0:11984], bins=2)\n",
    "plt.title(\"Primer 80% de los datos\")"
   ]
  },
  {
   "cell_type": "code",
   "execution_count": null,
   "metadata": {
    "collapsed": false
   },
   "outputs": [],
   "source": [
    "plt.hist(y_data[11984::], bins=2)\n",
    "plt.title(\"20% restante de los datos\")"
   ]
  },
  {
   "cell_type": "markdown",
   "metadata": {},
   "source": [
    "Los datos de prueba están muy sesgados comparados con los de prueba, por lo que se procede a calcular una selección aleatoria de los datos para entrenamiento, de manera que exista una relación más pareja de la información"
   ]
  },
  {
   "cell_type": "code",
   "execution_count": null,
   "metadata": {
    "collapsed": false
   },
   "outputs": [],
   "source": [
    "seed = 20 # La semilla se genera para asegurar repetibilidad de la ejecución\n",
    "np.random.seed(seed)\n",
    "np.random.shuffle(data) # Esta línea reorganiza aleatoriamente los datos\n",
    "X_data = data[::,:-1]\n",
    "y_data = data[::,-1]"
   ]
  },
  {
   "cell_type": "markdown",
   "metadata": {},
   "source": [
    "Nuevamente se prueban los histogramas"
   ]
  },
  {
   "cell_type": "code",
   "execution_count": null,
   "metadata": {
    "collapsed": false
   },
   "outputs": [],
   "source": [
    "plt.hist(y_data[0:11984], bins=2)\n",
    "plt.title(\"Primer 80% de los datos reorganizados\")"
   ]
  },
  {
   "cell_type": "code",
   "execution_count": null,
   "metadata": {
    "collapsed": false
   },
   "outputs": [],
   "source": [
    "plt.hist(y_data[11984::], bins=2)\n",
    "plt.title(\"20% restante de los datos reorganizados\")"
   ]
  },
  {
   "cell_type": "markdown",
   "metadata": {},
   "source": [
    "Están mejor, ahora los dos subconjuntos de datos tienen más o menos la misma relación de estados de ojos abiertos y cerrados"
   ]
  },
  {
   "cell_type": "code",
   "execution_count": null,
   "metadata": {
    "collapsed": true
   },
   "outputs": [],
   "source": [
    "X_train = X_data[0:11984]\n",
    "y_train = y_data[0:11984]\n",
    "X_test = X_data[11984::]\n",
    "y_test = y_data[11984::]"
   ]
  },
  {
   "cell_type": "markdown",
   "metadata": {},
   "source": [
    "## 2. Normalización de los datos\n",
    "Procedimiento llevado a cabo para lidiar con datos que están demasiado desviados"
   ]
  },
  {
   "cell_type": "code",
   "execution_count": null,
   "metadata": {
    "collapsed": false
   },
   "outputs": [],
   "source": [
    "for i in range(14):\n",
    "    print(\"Desviación de\", X_train[::,i].std() , \"para serie de datos\", i+1)"
   ]
  },
  {
   "cell_type": "code",
   "execution_count": null,
   "metadata": {
    "collapsed": true
   },
   "outputs": [],
   "source": [
    "from sklearn import preprocessing"
   ]
  },
  {
   "cell_type": "code",
   "execution_count": null,
   "metadata": {
    "collapsed": true
   },
   "outputs": [],
   "source": [
    "scaler = preprocessing.StandardScaler().fit(X_data)"
   ]
  },
  {
   "cell_type": "code",
   "execution_count": null,
   "metadata": {
    "collapsed": false
   },
   "outputs": [],
   "source": [
    "X_train = scaler.transform(X_train)"
   ]
  },
  {
   "cell_type": "code",
   "execution_count": null,
   "metadata": {
    "collapsed": false
   },
   "outputs": [],
   "source": [
    "X_test = scaler.transform(X_test)"
   ]
  },
  {
   "cell_type": "markdown",
   "metadata": {},
   "source": [
    "Ahora la desviación para los datos normalizados es de:"
   ]
  },
  {
   "cell_type": "code",
   "execution_count": null,
   "metadata": {
    "collapsed": false,
    "scrolled": true
   },
   "outputs": [],
   "source": [
    "for i in range(14):\n",
    "    print(\"Desviación de\", X_train[::,i].std() , \"para serie de datos\", i+1)"
   ]
  },
  {
   "cell_type": "markdown",
   "metadata": {},
   "source": [
    "## 3. Creación de la SVM\n",
    "Se crea la máquina de soporte vectorial y se ajustan los parámetros de la misma"
   ]
  },
  {
   "cell_type": "markdown",
   "metadata": {},
   "source": [
    "La mejor que he encontrado hasta el momento se da con kernel $rbf$ con: \n",
    "- $C=1.2*10^{4}$\n",
    "- $tol=10^{-7}$\n",
    "- $\\gamma = 1$\n",
    "- $10^{6}$ de iteraciones"
   ]
  },
  {
   "cell_type": "code",
   "execution_count": null,
   "metadata": {
    "collapsed": false,
    "scrolled": true
   },
   "outputs": [],
   "source": [
    "SVM = SVC()\n",
    "SVM.set_params(C = 1.2e4, kernel='rbf', tol=1e-7, max_iter = 1e6,\n",
    "               random_state=None, gamma=1, coef0=0.0, degree=3)\n",
    "t_start = time()\n",
    "SVM.fit(X_train, y_train)\n",
    "t_stop = time()\n",
    "# Ahora se comprueba con el subconjunto de prueba\n",
    "errores = np.zeros((1,2996))\n",
    "for i, Xt in enumerate(X_test):\n",
    "    errores[0,i] = np.abs(SVM.predict([Xt]) - y_test[i])\n",
    "t_stoppp = time()\n",
    "print(\"Error del:\", (errores != 0).sum() / 29.96, \"%\")\n",
    "print(t_stop - t_start, \"seconds in training\")\n",
    "print(t_stoppp - t_stop, \"seconds testing\")"
   ]
  },
  {
   "cell_type": "markdown",
   "metadata": {},
   "source": [
    "Errores con los datos de entrenamiento"
   ]
  },
  {
   "cell_type": "code",
   "execution_count": null,
   "metadata": {
    "collapsed": false
   },
   "outputs": [],
   "source": [
    "errores = np.zeros((1,11984))\n",
    "for i, Xt in enumerate(X_train):\n",
    "    errores[0,i] = np.abs(SVM.predict([Xt]) - y_train[i])\n",
    "t_stoppp = time()\n",
    "print(\"Error del:\", (errores != 0).sum() / 119.84, \"%\")"
   ]
  },
  {
   "cell_type": "markdown",
   "metadata": {
    "collapsed": true
   },
   "source": [
    "## 4. Comprobación visual\n",
    "Ahora para la secuencia, mostrar de manera gráfica la predicción del estado de los ojos y comprararla con los datos.\n",
    "\n",
    "¡No olvidar normalizar!"
   ]
  },
  {
   "cell_type": "code",
   "execution_count": null,
   "metadata": {
    "collapsed": false
   },
   "outputs": [],
   "source": [
    "pred = np.zeros((1,14980))\n",
    "X_pred = data_bk[::,:-1]\n",
    "X_pred = scaler.transform(X_pred)\n",
    "for i, Xd in enumerate(X_pred):\n",
    "    pred[0, i] = SVM.predict([Xd])"
   ]
  },
  {
   "cell_type": "code",
   "execution_count": null,
   "metadata": {
    "collapsed": false
   },
   "outputs": [],
   "source": [
    "plt.figure(figsize=(10,7))\n",
    "plt.step(np.arange(0,14980,1)/128, pred[0])\n",
    "plt.ylim(-0.5, 1.5)"
   ]
  },
  {
   "cell_type": "code",
   "execution_count": null,
   "metadata": {
    "collapsed": false
   },
   "outputs": [],
   "source": [
    "plt.figure(figsize=(10,7))\n",
    "plt.step(np.arange(0,14980,1)/128, data_bk[::,-1])\n",
    "plt.ylim(-0.5, 1.5)"
   ]
  },
  {
   "cell_type": "code",
   "execution_count": null,
   "metadata": {
    "collapsed": true
   },
   "outputs": [],
   "source": []
  },
  {
   "cell_type": "code",
   "execution_count": null,
   "metadata": {
    "collapsed": true
   },
   "outputs": [],
   "source": []
  },
  {
   "cell_type": "code",
   "execution_count": null,
   "metadata": {
    "collapsed": true
   },
   "outputs": [],
   "source": []
  }
 ],
 "metadata": {
  "kernelspec": {
   "display_name": "Python 3",
   "language": "python",
   "name": "python3"
  },
  "language_info": {
   "codemirror_mode": {
    "name": "ipython",
    "version": 3
   },
   "file_extension": ".py",
   "mimetype": "text/x-python",
   "name": "python",
   "nbconvert_exporter": "python",
   "pygments_lexer": "ipython3",
   "version": "3.4.6"
  }
 },
 "nbformat": 4,
 "nbformat_minor": 0
}
